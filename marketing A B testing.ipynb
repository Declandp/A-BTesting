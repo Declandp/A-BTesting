{
 "cells": [
  {
   "cell_type": "markdown",
   "id": "c9b2b68f",
   "metadata": {},
   "source": [
    "# Table of Contents\n",
    "\n",
    "### 1. Project Background\n",
    "\n",
    " - About Dataset\n",
    " - Meta Data\n",
    "### 2. Data Preparation\n",
    "\n",
    "   - Data Loading\n",
    "   - Data Cleaning\n",
    "   - Data Exploration\n",
    "   \n",
    "### 3. Bootstrap\n",
    "\n",
    "### 4. Hypothesis Test\n",
    "\n",
    "   -  4.1 One-tailed Test\n",
    "   -  4.2 T test\n",
    "   \n",
    " "
   ]
  },
  {
   "cell_type": "markdown",
   "id": "f57eefaf",
   "metadata": {},
   "source": [
    "#### 1.Project Background\n",
    "\n",
    "This project is based on the data provided at https://www.kaggle.com/datasets/faviovaz/marketing-ab-testing?datasetId=1660669. It's a simple marketing campaign with experiment and control group for A/B testing.  \n",
    "  \n",
    "  \n",
    "  \n",
    "####  1. Dataset Overview\n",
    "\n",
    "In this dataset, we delve into Marketing A/B testing, a crucial process for marketing companies striving to launch successful campaigns in a complex market. A/B testing is a randomized experimentation technique where various versions of a variable (e.g., web page, page element, banner) are simultaneously presented to different audience segments. This helps determine which version has the greatest impact and drives key business metrics.\n",
    "\n",
    "The primary questions of interest to these companies are:\n",
    "\n",
    "Will the campaign be a success?\n",
    "If the campaign succeeds, how much of that success can be attributed to the advertisements?\n",
    "To address the second question, A/B testing is typically conducted. The majority of the audience is exposed to ads (the experimental group), while a smaller portion (the control group) sees a Public Service Announcement (PSA) or nothing in the same space and format as the ads.\n",
    "\n",
    "The dataset's purpose is to analyze these groups, assess the effectiveness of the ads, estimate potential ad-generated revenue, and determine if any differences between the groups are statistically significant.   \n",
    "\n",
    "\n",
    "#### 1.2 Data dictionary:\n",
    "\n",
    "* Index: Row index\n",
    "* user id: User ID (unique)\n",
    "* test group: If \"ad\" the person saw the advertisement, if \"psa\" they only saw   the public service announcement\n",
    "* converted: If a person bought the product then True, else is False\n",
    "* total ads: Amount of ads seen by person\n",
    "* most ads day: Day that the person saw the biggest amount of ads\n",
    "* most ads hour: Hour of day that the person saw the biggest amount of ads\n"
   ]
  },
  {
   "cell_type": "markdown",
   "id": "b3b81eaa",
   "metadata": {},
   "source": [
    "### 2. Data preperation\n",
    "\n",
    "### 2.1 Data Loading"
   ]
  },
  {
   "cell_type": "code",
   "execution_count": null,
   "id": "917e3eea",
   "metadata": {},
   "outputs": [],
   "source": [
    "\n",
    "\n",
    "#importing libraries and data\n",
    "\n",
    "import pandas as pd\n",
    "import matplotlib.pyplot as plt\n",
    "import seaborn as sns\n",
    "import numpy as np\n",
    "\n",
    "# loading data\n",
    "\n",
    "df = pd.read_csv(\"C:/Users/Welluser/Downloads/AB tetsing/marketing_AB.csv\")\n",
    "df.head()"
   ]
  },
  {
   "cell_type": "markdown",
   "id": "2e57019c",
   "metadata": {},
   "source": [
    "##### 2.2 Data Cleaning\n",
    "\n",
    "We find that there is one unecessary column named - Unnamed:0.We will be removing this column"
   ]
  },
  {
   "cell_type": "code",
   "execution_count": 4,
   "id": "80d9be9f",
   "metadata": {},
   "outputs": [
    {
     "data": {
      "text/html": [
       "<div>\n",
       "<style scoped>\n",
       "    .dataframe tbody tr th:only-of-type {\n",
       "        vertical-align: middle;\n",
       "    }\n",
       "\n",
       "    .dataframe tbody tr th {\n",
       "        vertical-align: top;\n",
       "    }\n",
       "\n",
       "    .dataframe thead th {\n",
       "        text-align: right;\n",
       "    }\n",
       "</style>\n",
       "<table border=\"1\" class=\"dataframe\">\n",
       "  <thead>\n",
       "    <tr style=\"text-align: right;\">\n",
       "      <th></th>\n",
       "      <th>user id</th>\n",
       "      <th>test group</th>\n",
       "      <th>converted</th>\n",
       "      <th>total ads</th>\n",
       "      <th>most ads day</th>\n",
       "      <th>most ads hour</th>\n",
       "    </tr>\n",
       "  </thead>\n",
       "  <tbody>\n",
       "    <tr>\n",
       "      <th>0</th>\n",
       "      <td>1069124</td>\n",
       "      <td>ad</td>\n",
       "      <td>False</td>\n",
       "      <td>130</td>\n",
       "      <td>Monday</td>\n",
       "      <td>20</td>\n",
       "    </tr>\n",
       "    <tr>\n",
       "      <th>1</th>\n",
       "      <td>1119715</td>\n",
       "      <td>ad</td>\n",
       "      <td>False</td>\n",
       "      <td>93</td>\n",
       "      <td>Tuesday</td>\n",
       "      <td>22</td>\n",
       "    </tr>\n",
       "    <tr>\n",
       "      <th>2</th>\n",
       "      <td>1144181</td>\n",
       "      <td>ad</td>\n",
       "      <td>False</td>\n",
       "      <td>21</td>\n",
       "      <td>Tuesday</td>\n",
       "      <td>18</td>\n",
       "    </tr>\n",
       "    <tr>\n",
       "      <th>3</th>\n",
       "      <td>1435133</td>\n",
       "      <td>ad</td>\n",
       "      <td>False</td>\n",
       "      <td>355</td>\n",
       "      <td>Tuesday</td>\n",
       "      <td>10</td>\n",
       "    </tr>\n",
       "    <tr>\n",
       "      <th>4</th>\n",
       "      <td>1015700</td>\n",
       "      <td>ad</td>\n",
       "      <td>False</td>\n",
       "      <td>276</td>\n",
       "      <td>Friday</td>\n",
       "      <td>14</td>\n",
       "    </tr>\n",
       "  </tbody>\n",
       "</table>\n",
       "</div>"
      ],
      "text/plain": [
       "   user id test group  converted  total ads most ads day  most ads hour\n",
       "0  1069124         ad      False        130       Monday             20\n",
       "1  1119715         ad      False         93      Tuesday             22\n",
       "2  1144181         ad      False         21      Tuesday             18\n",
       "3  1435133         ad      False        355      Tuesday             10\n",
       "4  1015700         ad      False        276       Friday             14"
      ]
     },
     "execution_count": 4,
     "metadata": {},
     "output_type": "execute_result"
    }
   ],
   "source": [
    "# droping unnecessary column\n",
    "\n",
    "df.drop([\"Unnamed: 0\"],axis=1,inplace=True)\n",
    "df.head()"
   ]
  },
  {
   "cell_type": "markdown",
   "id": "bf2cde05",
   "metadata": {},
   "source": [
    "We see that the column names have \" \", so we will replace it with \"_\""
   ]
  },
  {
   "cell_type": "code",
   "execution_count": null,
   "id": "24b9c670",
   "metadata": {},
   "outputs": [],
   "source": [
    "\n",
    "\n",
    "# adjusting column names to have a\"-\" instead of a space \" \"\n",
    "df.rename(columns= lambda x: x.replace(\" \",\"_\"),inplace=True)\n",
    "df.head()"
   ]
  },
  {
   "cell_type": "markdown",
   "id": "324b7770",
   "metadata": {},
   "source": [
    "##### 2.3 Data Exploration"
   ]
  },
  {
   "cell_type": "code",
   "execution_count": 6,
   "id": "c634486f",
   "metadata": {},
   "outputs": [
    {
     "name": "stdout",
     "output_type": "stream",
     "text": [
      "<class 'pandas.core.frame.DataFrame'>\n",
      "RangeIndex: 588101 entries, 0 to 588100\n",
      "Data columns (total 6 columns):\n",
      " #   Column         Non-Null Count   Dtype \n",
      "---  ------         --------------   ----- \n",
      " 0   user_id        588101 non-null  int64 \n",
      " 1   test_group     588101 non-null  object\n",
      " 2   converted      588101 non-null  bool  \n",
      " 3   total_ads      588101 non-null  int64 \n",
      " 4   most_ads_day   588101 non-null  object\n",
      " 5   most_ads_hour  588101 non-null  int64 \n",
      "dtypes: bool(1), int64(3), object(2)\n",
      "memory usage: 23.0+ MB\n"
     ]
    }
   ],
   "source": [
    "#EDA Checking for missing data\n",
    "df.info()\n",
    "# no missing data,we can move forward with our analysis"
   ]
  },
  {
   "cell_type": "code",
   "execution_count": 7,
   "id": "11fdbf02",
   "metadata": {},
   "outputs": [
    {
     "data": {
      "text/plain": [
       "test_group\n",
       "ad     564577\n",
       "psa     23524\n",
       "Name: count, dtype: int64"
      ]
     },
     "execution_count": 7,
     "metadata": {},
     "output_type": "execute_result"
    }
   ],
   "source": [
    "# checking for the sample size of the control group(psa) and test group(ad)\n",
    "df[\"test_group\"].value_counts()"
   ]
  },
  {
   "cell_type": "code",
   "execution_count": 8,
   "id": "a91056c1",
   "metadata": {},
   "outputs": [
    {
     "data": {
      "text/plain": [
       "converted  test_group\n",
       "False      ad            550154\n",
       "           psa            23104\n",
       "True       ad             14423\n",
       "           psa              420\n",
       "Name: count, dtype: int64"
      ]
     },
     "execution_count": 8,
     "metadata": {},
     "output_type": "execute_result"
    }
   ],
   "source": [
    "df.groupby(\"converted\")[\"test_group\"].value_counts()"
   ]
  },
  {
   "cell_type": "markdown",
   "id": "551a4744",
   "metadata": {},
   "source": [
    "- We see that the sample size for ad is so much larger than the sample size of psa.This can lead to problems with such an imbalance of sample size.We therefore i will be using resampling method called BOOTSTRAPPING to account for the imbalance of sample sizes\n",
    "\n",
    "\n",
    "\n",
    "- We need to first create subsets of the original data into test group and control group"
   ]
  },
  {
   "cell_type": "code",
   "execution_count": 15,
   "id": "ad9982ab",
   "metadata": {},
   "outputs": [],
   "source": [
    "#creating subsets of the original data\n",
    "ad_test = df[df[\"test_group\"]==\"ad\"]\n",
    "psa_control = df[df[\"test_group\"]==\"psa\"]\n"
   ]
  },
  {
   "cell_type": "code",
   "execution_count": 16,
   "id": "718e8aa7",
   "metadata": {},
   "outputs": [
    {
     "name": "stdout",
     "output_type": "stream",
     "text": [
      "0.025546559636683747 0.01785410644448223\n"
     ]
    }
   ],
   "source": [
    "#Calculating the Average conversion rate of each group\n",
    "ad_conversion =ad_test[\"converted\"].mean()\n",
    "psa_conversion =psa_control[\"converted\"].mean()\n",
    "\n",
    "print(ad_conversion,psa_conversion)"
   ]
  },
  {
   "cell_type": "markdown",
   "id": "5b76112c",
   "metadata": {},
   "source": [
    "### Considering the provided sample data, the average conversion rate for advertisements stands at 2.55%, which is 0.76% higher than the conversion rate for public service announcements (PSAs) at 1.79%. This suggests that running ads may be effective in enhancing the conversion rate.\n",
    "\n",
    "### However, it's essential to assess whether these findings hold true for a more extensive population. Could these observed differences be attributed to the larger sample size of the ads? To address these questions, we must perform statistical significance tests (such as the z-test or t-test) using data with evenly balanced sample sizes (through bootstrapping)."
   ]
  },
  {
   "cell_type": "markdown",
   "id": "f8c5894f",
   "metadata": {},
   "source": [
    "### 3. Bootstrap Resample\n",
    "\n",
    "- The Bootstrap method is a resampling approach commonly employed in statistical analysis. Essentially, it entails drawing observations from a dataset repeatedly, with replacement, to generate numerous resampled datasets. This iterative resampling procedure facilitates the estimation of the sampling distribution of a statistic or the derivation of insights regarding population parameters.\n",
    "\n",
    "- In this project, I will apply the Bootstrap method by resampling from the original dataset to generate 1000 resampled datasets, each comprising sample means for both the experimental and control groups. This resampling technique is particularly useful because it leverages the Central Limit Theorem (CLT), which states that the sampling distribution of the mean of a sufficiently large random sample from any population approaches a normal distribution. By repeatedly resampling, we approximate this normal distribution and gain valuable insights into the variability of our sample means.\n",
    "\n",
    "\n",
    "\n",
    "\n"
   ]
  },
  {
   "cell_type": "code",
   "execution_count": null,
   "id": "558fcad4",
   "metadata": {},
   "outputs": [],
   "source": [
    "# creating an empty list to store the means\n",
    "boot_ad=[]\n",
    "\n",
    "#creating a loop to generate 1000 sample means\n",
    "for i in range(1000):\n",
    "    boot_mean=ad_test.sample(frac=1,replace=True)['converted'].mean()\n",
    "    boot_ad.append(boot_mean)\n",
    "    \n",
    "boot_ad=pd.DataFrame(boot_ad)\n"
   ]
  },
  {
   "cell_type": "code",
   "execution_count": 64,
   "id": "a9748b05",
   "metadata": {},
   "outputs": [
    {
     "data": {
      "image/png": "[encoded data removed]",
      "text/plain": [
       "<Figure size 640x480 with 1 Axes>"
      ]
     },
     "metadata": {},
     "output_type": "display_data"
    }
   ],
   "source": [
    "#Plotting the density plot to obsere the distribution \n",
    "boot_ad.plot(kind=\"density\")\n",
    "plt.show()"
   ]
  },
  {
   "cell_type": "markdown",
   "id": "1d7bda64",
   "metadata": {},
   "source": [
    "#### We repeat the process for psa group"
   ]
  },
  {
   "cell_type": "code",
   "execution_count": 44,
   "id": "4491836c",
   "metadata": {},
   "outputs": [],
   "source": [
    "boot_psa=[]\n",
    "\n",
    "for i in range(1000):\n",
    "    boot_mean=psa_control.sample(frac=1,replace=True)['converted'].mean()\n",
    "    boot_psa.append(boot_mean)\n",
    "    \n",
    "boot_psa=pd.DataFrame(boot_psa)\n"
   ]
  },
  {
   "cell_type": "code",
   "execution_count": 63,
   "id": "5b43f3f2",
   "metadata": {},
   "outputs": [
    {
     "data": {
      "image/png": "[encoded data removed]",
      "text/plain": [
       "<Figure size 640x480 with 1 Axes>"
      ]
     },
     "metadata": {},
     "output_type": "display_data"
    }
   ],
   "source": [
    "boot_psa.plot(kind=\"density\")\n",
    "plt.show()"
   ]
  },
  {
   "cell_type": "markdown",
   "id": "d54b9a5d",
   "metadata": {},
   "source": [
    "- The bootstrap means of psa group and ad group both follows the normal distribution. Now, we are confident to do hypothesis test by running z-test or t-test based on the bootstrap data we've just got.\n",
    "- We need to combine the bootstrap dataframe of ad and psa group first before doing further analysis."
   ]
  },
  {
   "cell_type": "code",
   "execution_count": 46,
   "id": "45723d66",
   "metadata": {},
   "outputs": [],
   "source": [
    "#Adding column names\n",
    "boot_ad.columns = [\"ads_converted\"]\n",
    "boot_psa.columns =[\"psa_converted\"]"
   ]
  },
  {
   "cell_type": "code",
   "execution_count": 53,
   "id": "aa155b36",
   "metadata": {},
   "outputs": [
    {
     "name": "stdout",
     "output_type": "stream",
     "text": [
      "<class 'pandas.core.frame.DataFrame'>\n",
      "RangeIndex: 1000 entries, 0 to 999\n",
      "Data columns (total 2 columns):\n",
      " #   Column         Non-Null Count  Dtype  \n",
      "---  ------         --------------  -----  \n",
      " 0   ads_converted  1000 non-null   float64\n",
      " 1   psa_converted  1000 non-null   float64\n",
      "dtypes: float64(2)\n",
      "memory usage: 15.8 KB\n"
     ]
    }
   ],
   "source": [
    "#concatenating the two dataframes\n",
    "boot_strap = pd.concat([boot_ad,boot_psa],axis=1)\n",
    "boot_strap.info()"
   ]
  },
  {
   "cell_type": "code",
   "execution_count": 56,
   "id": "95bad324",
   "metadata": {},
   "outputs": [
    {
     "data": {
      "text/html": [
       "<div>\n",
       "<style scoped>\n",
       "    .dataframe tbody tr th:only-of-type {\n",
       "        vertical-align: middle;\n",
       "    }\n",
       "\n",
       "    .dataframe tbody tr th {\n",
       "        vertical-align: top;\n",
       "    }\n",
       "\n",
       "    .dataframe thead th {\n",
       "        text-align: right;\n",
       "    }\n",
       "</style>\n",
       "<table border=\"1\" class=\"dataframe\">\n",
       "  <thead>\n",
       "    <tr style=\"text-align: right;\">\n",
       "      <th></th>\n",
       "      <th>ads_converted</th>\n",
       "      <th>psa_converted</th>\n",
       "      <th>diff</th>\n",
       "    </tr>\n",
       "  </thead>\n",
       "  <tbody>\n",
       "    <tr>\n",
       "      <th>0</th>\n",
       "      <td>0.025568</td>\n",
       "      <td>0.018619</td>\n",
       "      <td>0.373190</td>\n",
       "    </tr>\n",
       "    <tr>\n",
       "      <th>1</th>\n",
       "      <td>0.025437</td>\n",
       "      <td>0.017429</td>\n",
       "      <td>0.459449</td>\n",
       "    </tr>\n",
       "    <tr>\n",
       "      <th>2</th>\n",
       "      <td>0.025904</td>\n",
       "      <td>0.017982</td>\n",
       "      <td>0.440600</td>\n",
       "    </tr>\n",
       "    <tr>\n",
       "      <th>3</th>\n",
       "      <td>0.025541</td>\n",
       "      <td>0.018407</td>\n",
       "      <td>0.387603</td>\n",
       "    </tr>\n",
       "    <tr>\n",
       "      <th>4</th>\n",
       "      <td>0.025617</td>\n",
       "      <td>0.017174</td>\n",
       "      <td>0.491643</td>\n",
       "    </tr>\n",
       "    <tr>\n",
       "      <th>5</th>\n",
       "      <td>0.025756</td>\n",
       "      <td>0.017939</td>\n",
       "      <td>0.435720</td>\n",
       "    </tr>\n",
       "    <tr>\n",
       "      <th>6</th>\n",
       "      <td>0.025288</td>\n",
       "      <td>0.017174</td>\n",
       "      <td>0.472460</td>\n",
       "    </tr>\n",
       "    <tr>\n",
       "      <th>7</th>\n",
       "      <td>0.025392</td>\n",
       "      <td>0.018152</td>\n",
       "      <td>0.398905</td>\n",
       "    </tr>\n",
       "    <tr>\n",
       "      <th>8</th>\n",
       "      <td>0.025293</td>\n",
       "      <td>0.018534</td>\n",
       "      <td>0.364676</td>\n",
       "    </tr>\n",
       "    <tr>\n",
       "      <th>9</th>\n",
       "      <td>0.025490</td>\n",
       "      <td>0.019002</td>\n",
       "      <td>0.341441</td>\n",
       "    </tr>\n",
       "  </tbody>\n",
       "</table>\n",
       "</div>"
      ],
      "text/plain": [
       "   ads_converted  psa_converted      diff\n",
       "0       0.025568       0.018619  0.373190\n",
       "1       0.025437       0.017429  0.459449\n",
       "2       0.025904       0.017982  0.440600\n",
       "3       0.025541       0.018407  0.387603\n",
       "4       0.025617       0.017174  0.491643\n",
       "5       0.025756       0.017939  0.435720\n",
       "6       0.025288       0.017174  0.472460\n",
       "7       0.025392       0.018152  0.398905\n",
       "8       0.025293       0.018534  0.364676\n",
       "9       0.025490       0.019002  0.341441"
      ]
     },
     "execution_count": 56,
     "metadata": {},
     "output_type": "execute_result"
    }
   ],
   "source": [
    "#create a diff column, calculating the difference rate between ad_converted and psa_converted\n",
    "boot_strap['diff']=(boot_strap['ads_converted']-boot_strap['psa_converted'])/boot_strap['psa_converted']\n",
    "boot_strap.head(10)"
   ]
  },
  {
   "cell_type": "code",
   "execution_count": 66,
   "id": "ed8c755e",
   "metadata": {},
   "outputs": [
    {
     "data": {
      "image/png": "[encoded data removed]",
      "text/plain": [
       "<Figure size 640x480 with 1 Axes>"
      ]
     },
     "metadata": {},
     "output_type": "display_data"
    }
   ],
   "source": [
    "#plotting density graph of difference in conversion rate to check the distribution\n",
    "ax=boot_strap['diff'].plot(kind='density')\n",
    "ax.set_title('% difference in converted rate between ads and psa')\n",
    "plt.show()"
   ]
  },
  {
   "cell_type": "markdown",
   "id": "446c0e16",
   "metadata": {},
   "source": [
    "### 4. Hypothesis Test\n",
    "\n",
    "I will be perfroming a 1 tailed test since we want to determine if ad group significantly improves the conversion rate.\n",
    "\n",
    "- 4.1 One -tailed test\n",
    "- Null Hypothesis (H0): The conversion rate of the ad group is equal to or less than the conversion rate of the psa group. \n",
    "- Alternative Hypothesis (H1): The conversion rate of the ad group is significantly greater than the conversion rate of the psa group."
   ]
  },
  {
   "cell_type": "code",
   "execution_count": 69,
   "id": "fc789415",
   "metadata": {},
   "outputs": [
    {
     "name": "stdout",
     "output_type": "stream",
     "text": [
      "z score 12.477314569259793\n",
      "P Value 0.0\n",
      "Reject the null hypothesis. There is a significant difference.\n"
     ]
    }
   ],
   "source": [
    "from scipy import stats\n",
    "\n",
    "boot_ad_converted=boot_strap['ads_converted']\n",
    "boot_psa_converted=boot_strap['psa_converted']\n",
    "\n",
    "alpha =0.05\n",
    "boot_ad_mean=boot_ad_converted.mean()\n",
    "boot_psa_mean=boot_psa_converted.mean()\n",
    "boot_ad_std=boot_ad_converted.std()\n",
    "boot_psa_std=boot_psa_converted.std()\n",
    "\n",
    "pooled_std=np.sqrt((boot_ad_std**2+boot_psa_std**2)/2)\n",
    "z_score=(boot_ad_mean-boot_psa_mean)/pooled_std\n",
    "p_value=1-stats.norm.cdf(z_score)\n",
    "\n",
    "print('z score',z_score)\n",
    "print('P Value',p_value)\n",
    "\n",
    "if p_value < alpha:\n",
    "    print(\"Reject the null hypothesis. There is a significant difference .\")\n",
    "else:\n",
    "    print(\"Fail to reject the null hypothesis. There is no significant difference.\")"
   ]
  },
  {
   "cell_type": "code",
   "execution_count": 71,
   "id": "fc96b2b1",
   "metadata": {},
   "outputs": [
    {
     "name": "stdout",
     "output_type": "stream",
     "text": [
      "T-statistic: 279.001235535134\n",
      "P-value: 0.0\n",
      "Reject the null hypothesis. There is a significant difference.\n"
     ]
    }
   ],
   "source": [
    "t_stat, p_value = stats.ttest_ind(boot_ad_converted, boot_psa_converted, alternative='greater', equal_var=False)\n",
    "\n",
    "print(\"T-statistic:\", t_stat)\n",
    "print(\"P-value:\", p_value)\n",
    "\n",
    "if p_value < alpha:\n",
    "    print(\"Reject the null hypothesis. There is a significant difference.\")\n",
    "else:\n",
    "    print(\"Fail to reject the null hypothesis. There is no significant difference.\")"
   ]
  },
  {
   "cell_type": "markdown",
   "id": "0c6994c7",
   "metadata": {},
   "source": [
    "### In both test Z test and t test the p value is less than the signi the null hypothesis is rejected "
   ]
  }
 ],
 "metadata": {
  "kernelspec": {
   "display_name": "Python 3 (ipykernel)",
   "language": "python",
   "name": "python3"
  },
  "language_info": {
   "codemirror_mode": {
    "name": "ipython",
    "version": 3
   },
   "file_extension": ".py",
   "mimetype": "text/x-python",
   "name": "python",
   "nbconvert_exporter": "python",
   "pygments_lexer": "ipython3",
   "version": "3.11.4"
  }
 },
 "nbformat": 4,
 "nbformat_minor": 5
}
